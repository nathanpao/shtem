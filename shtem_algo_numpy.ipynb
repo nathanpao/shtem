{
 "cells": [
  {
   "cell_type": "code",
   "execution_count": 1,
   "id": "67f65617",
   "metadata": {},
   "outputs": [],
   "source": [
    "import numpy as np"
   ]
  },
  {
   "cell_type": "code",
   "execution_count": 22,
   "id": "75841ec7",
   "metadata": {},
   "outputs": [],
   "source": [
    "a = np.array([1, 2, 3, 4, 5])"
   ]
  },
  {
   "cell_type": "code",
   "execution_count": 23,
   "id": "3fc3b4c2",
   "metadata": {},
   "outputs": [],
   "source": [
    "list = [1, 2, 3, 'abc', 123]"
   ]
  },
  {
   "cell_type": "code",
   "execution_count": 24,
   "id": "654291c6",
   "metadata": {
    "scrolled": true
   },
   "outputs": [
    {
     "data": {
      "text/plain": [
       "array([ 5, 10, 15, 20, 25])"
      ]
     },
     "execution_count": 24,
     "metadata": {},
     "output_type": "execute_result"
    }
   ],
   "source": [
    "a * 5"
   ]
  },
  {
   "cell_type": "code",
   "execution_count": 25,
   "id": "566b8f7a",
   "metadata": {
    "scrolled": true
   },
   "outputs": [
    {
     "data": {
      "text/plain": [
       "6"
      ]
     },
     "execution_count": 25,
     "metadata": {},
     "output_type": "execute_result"
    }
   ],
   "source": [
    "a[-2] + a[1]"
   ]
  },
  {
   "cell_type": "code",
   "execution_count": 26,
   "id": "3bf75a35",
   "metadata": {},
   "outputs": [
    {
     "data": {
      "text/plain": [
       "125"
      ]
     },
     "execution_count": 26,
     "metadata": {},
     "output_type": "execute_result"
    }
   ],
   "source": [
    "list[-1] + list[1]"
   ]
  },
  {
   "cell_type": "code",
   "execution_count": 27,
   "id": "d8d370c3",
   "metadata": {},
   "outputs": [
    {
     "name": "stdout",
     "output_type": "stream",
     "text": [
      "[ 2  4  6  8 10]\n",
      "[1, 2, 3, 'abc', 123, 1, 2, 3, 'abc', 123]\n"
     ]
    }
   ],
   "source": [
    "print(a*2)\n",
    "print(list*2)"
   ]
  },
  {
   "cell_type": "code",
   "execution_count": 28,
   "id": "bb0b350f",
   "metadata": {},
   "outputs": [
    {
     "data": {
      "text/plain": [
       "array([1, 2, 3, 4])"
      ]
     },
     "execution_count": 28,
     "metadata": {},
     "output_type": "execute_result"
    }
   ],
   "source": [
    "a[:4]"
   ]
  },
  {
   "cell_type": "code",
   "execution_count": 29,
   "id": "0a8cceb5",
   "metadata": {},
   "outputs": [
    {
     "data": {
      "text/plain": [
       "[1, 2, 3, 'abc']"
      ]
     },
     "execution_count": 29,
     "metadata": {},
     "output_type": "execute_result"
    }
   ],
   "source": [
    "list[:4]"
   ]
  },
  {
   "cell_type": "code",
   "execution_count": 57,
   "id": "26156ade",
   "metadata": {},
   "outputs": [],
   "source": [
    "arr = np.array([[1, 2, 3, 4, 5, 6, 7, 8]])"
   ]
  },
  {
   "cell_type": "code",
   "execution_count": 33,
   "id": "7e902cbf",
   "metadata": {},
   "outputs": [
    {
     "data": {
      "text/plain": [
       "(2, 4)"
      ]
     },
     "execution_count": 33,
     "metadata": {},
     "output_type": "execute_result"
    }
   ],
   "source": [
    "arr.shape"
   ]
  },
  {
   "cell_type": "code",
   "execution_count": 35,
   "id": "e6836719",
   "metadata": {},
   "outputs": [
    {
     "data": {
      "text/plain": [
       "array([[[1, 2],\n",
       "        [3, 4]],\n",
       "\n",
       "       [[5, 6],\n",
       "        [7, 8]]])"
      ]
     },
     "execution_count": 35,
     "metadata": {},
     "output_type": "execute_result"
    }
   ],
   "source": [
    "arr.reshape(2, 2, 2)"
   ]
  },
  {
   "cell_type": "code",
   "execution_count": 54,
   "id": "00e61cc7",
   "metadata": {},
   "outputs": [
    {
     "data": {
      "text/plain": [
       "array([1, 2, 3, 4, 5, 6, 7, 8])"
      ]
     },
     "execution_count": 54,
     "metadata": {},
     "output_type": "execute_result"
    }
   ],
   "source": [
    "arr.reshape(8)"
   ]
  },
  {
   "cell_type": "code",
   "execution_count": 55,
   "id": "767ca144",
   "metadata": {},
   "outputs": [],
   "source": [
    "arr1 = np.array([2, 3, 4, 11, 12, 45, 67, 12])"
   ]
  },
  {
   "cell_type": "code",
   "execution_count": 58,
   "id": "465a5573",
   "metadata": {},
   "outputs": [
    {
     "data": {
      "text/plain": [
       "array([[ 3,  5,  7, 15, 17, 51, 74, 20]])"
      ]
     },
     "execution_count": 58,
     "metadata": {},
     "output_type": "execute_result"
    }
   ],
   "source": [
    "arr+arr1"
   ]
  },
  {
   "cell_type": "code",
   "execution_count": 59,
   "id": "5299ceee",
   "metadata": {},
   "outputs": [],
   "source": [
    "arr = arr.reshape(8, 1)\n",
    "arr1 = arr1.reshape(8, 1)"
   ]
  },
  {
   "cell_type": "code",
   "execution_count": 60,
   "id": "8ffd768a",
   "metadata": {},
   "outputs": [
    {
     "data": {
      "text/plain": [
       "array([[ 2,  1],\n",
       "       [ 3,  2],\n",
       "       [ 4,  3],\n",
       "       [11,  4],\n",
       "       [12,  5],\n",
       "       [45,  6],\n",
       "       [67,  7],\n",
       "       [12,  8]])"
      ]
     },
     "execution_count": 60,
     "metadata": {},
     "output_type": "execute_result"
    }
   ],
   "source": [
    "np.concatenate((arr1, arr), axis = 1)"
   ]
  },
  {
   "cell_type": "code",
   "execution_count": 71,
   "id": "3a0621a1",
   "metadata": {},
   "outputs": [
    {
     "data": {
      "text/plain": [
       "(array([1, 3, 5, 6], dtype=int64), array([0, 0, 0, 0], dtype=int64))"
      ]
     },
     "execution_count": 71,
     "metadata": {},
     "output_type": "execute_result"
    }
   ],
   "source": [
    "x = np.where(arr1%2 == 1)\n",
    "x"
   ]
  },
  {
   "cell_type": "code",
   "execution_count": 77,
   "id": "eae71d3e",
   "metadata": {},
   "outputs": [
    {
     "data": {
      "text/plain": [
       "(array([0], dtype=int64), array([0], dtype=int64))"
      ]
     },
     "execution_count": 77,
     "metadata": {},
     "output_type": "execute_result"
    }
   ],
   "source": [
    "x = np.where(arr == 1)\n",
    "x\n",
    "#supposedly works in searching for strings"
   ]
  },
  {
   "cell_type": "code",
   "execution_count": 78,
   "id": "c0cc4362",
   "metadata": {},
   "outputs": [],
   "source": [
    "import matplotlib.pyplot as plt"
   ]
  },
  {
   "cell_type": "code",
   "execution_count": 79,
   "id": "e33ace46",
   "metadata": {},
   "outputs": [
    {
     "data": {
      "image/png": "[encoded data removed]",
      "text/plain": [
       "<Figure size 432x288 with 1 Axes>"
      ]
     },
     "metadata": {
      "needs_background": "light"
     },
     "output_type": "display_data"
    }
   ],
   "source": [
    "xpoints = np.array([0, 6])\n",
    "ypoints = np.array([0, 250])\n",
    "plt.plot(xpoints, ypoints)\n",
    "plt.show()"
   ]
  },
  {
   "cell_type": "code",
   "execution_count": 80,
   "id": "490b8654",
   "metadata": {},
   "outputs": [],
   "source": [
    "import pandas as pd"
   ]
  },
  {
   "cell_type": "code",
   "execution_count": 85,
   "id": "f7ac90b4",
   "metadata": {},
   "outputs": [
    {
     "data": {
      "text/plain": [
       "0      46.4040\n",
       "1      46.4040\n",
       "2      46.3844\n",
       "3      46.4040\n",
       "4      46.3844\n",
       "        ...   \n",
       "726    45.6719\n",
       "727    45.6965\n",
       "728    45.6965\n",
       "729    45.6842\n",
       "730    45.6965\n",
       "Name: close, Length: 731, dtype: float64"
      ]
     },
     "execution_count": 85,
     "metadata": {},
     "output_type": "execute_result"
    }
   ],
   "source": [
    "a = pd.read_csv(r\"C:\\Users\\natha\\Downloads\\S&Ptest\\allstocks_20190319\\table_aapl.csv\", header=None)\n",
    "a.columns = ['date', 'minute', 'open', 'high', 'low', 'close', 'volume', '1', '2', '3']\n",
    "a['close']"
   ]
  },
  {
   "cell_type": "code",
   "execution_count": 86,
   "id": "4cb5ce67",
   "metadata": {},
   "outputs": [
    {
     "data": {
      "text/plain": [
       "<AxesSubplot:>"
      ]
     },
     "execution_count": 86,
     "metadata": {},
     "output_type": "execute_result"
    },
    {
     "data": {
      "image/png": "[encoded data removed]",
      "text/plain": [
       "<Figure size 432x288 with 1 Axes>"
      ]
     },
     "metadata": {
      "needs_background": "light"
     },
     "output_type": "display_data"
    }
   ],
   "source": [
    "a['close'].plot()"
   ]
  },
  {
   "cell_type": "code",
   "execution_count": null,
   "id": "d2a28c41",
   "metadata": {},
   "outputs": [],
   "source": []
  }
 ],
 "metadata": {
  "kernelspec": {
   "display_name": "Python 3 (ipykernel)",
   "language": "python",
   "name": "python3"
  },
  "language_info": {
   "codemirror_mode": {
    "name": "ipython",
    "version": 3
   },
   "file_extension": ".py",
   "mimetype": "text/x-python",
   "name": "python",
   "nbconvert_exporter": "python",
   "pygments_lexer": "ipython3",
   "version": "3.9.12"
  }
 },
 "nbformat": 4,
 "nbformat_minor": 5
}
